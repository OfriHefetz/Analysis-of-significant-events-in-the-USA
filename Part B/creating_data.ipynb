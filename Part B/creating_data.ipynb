{
 "cells": [
  {
   "cell_type": "markdown",
   "id": "530d7e8d",
   "metadata": {},
   "source": [
    "# Creating and Downloading Relevant Data:"
   ]
  },
  {
   "cell_type": "code",
   "execution_count": 1,
   "id": "bec20c1a",
   "metadata": {},
   "outputs": [],
   "source": [
    "import pandas as pd\n",
    "import os\n",
    "from nltk.corpus import stopwords\n"
   ]
  },
  {
   "cell_type": "code",
   "execution_count": null,
   "id": "bc09af59",
   "metadata": {},
   "outputs": [],
   "source": [
    "nltk.download('stopwords')"
   ]
  },
  {
   "cell_type": "code",
   "execution_count": 2,
   "id": "3db92c8b",
   "metadata": {},
   "outputs": [],
   "source": [
    "s=set(stopwords.words('english'))"
   ]
  },
  {
   "cell_type": "code",
   "execution_count": 3,
   "id": "c2a52d58",
   "metadata": {},
   "outputs": [],
   "source": [
    "def remove_stopwords(text):\n",
    "    return list(filter(lambda w: not w.lower() in s,text))"
   ]
  },
  {
   "cell_type": "code",
   "execution_count": 4,
   "id": "314fde61",
   "metadata": {},
   "outputs": [],
   "source": [
    "data = pd.DataFrame(columns=['url', 'channel.name', 'program.name', 'uid', 'duration', 'year',\n",
    "       'month', 'date', 'time', 'timezone', 'path', 'wordcount', 'subhead',\n",
    "       'text'])\n",
    "chunksize = 10 ** 2\n",
    "for chunk in pd.read_csv('cnn-3.csv', chunksize=chunksize):\n",
    "    if (chunk['year']==2001).any():\n",
    "        data = data.append(chunk,ignore_index=True)"
   ]
  },
  {
   "cell_type": "markdown",
   "id": "994591b3",
   "metadata": {},
   "source": [
    "### 9.11.2001"
   ]
  },
  {
   "cell_type": "code",
   "execution_count": 30,
   "id": "7f1aa85d",
   "metadata": {},
   "outputs": [
    {
     "name": "stderr",
     "output_type": "stream",
     "text": [
      "<ipython-input-30-68ca6b75662b>:4: SettingWithCopyWarning: \n",
      "A value is trying to be set on a copy of a slice from a DataFrame.\n",
      "Try using .loc[row_indexer,col_indexer] = value instead\n",
      "\n",
      "See the caveats in the documentation: https://pandas.pydata.org/pandas-docs/stable/user_guide/indexing.html#returning-a-view-versus-a-copy\n",
      "  day['sentences'] = day.text.str.split('.')\n",
      "<ipython-input-30-68ca6b75662b>:5: SettingWithCopyWarning: \n",
      "A value is trying to be set on a copy of a slice from a DataFrame.\n",
      "Try using .loc[row_indexer,col_indexer] = value instead\n",
      "\n",
      "See the caveats in the documentation: https://pandas.pydata.org/pandas-docs/stable/user_guide/indexing.html#returning-a-view-versus-a-copy\n",
      "  day['words_sentences'] =[[list(filter(lambda w: not w.lower() in s,sen.split())) for sen in text] for text in day.sentences]\n",
      "<ipython-input-30-68ca6b75662b>:6: SettingWithCopyWarning: \n",
      "A value is trying to be set on a copy of a slice from a DataFrame.\n",
      "Try using .loc[row_indexer,col_indexer] = value instead\n",
      "\n",
      "See the caveats in the documentation: https://pandas.pydata.org/pandas-docs/stable/user_guide/indexing.html#returning-a-view-versus-a-copy\n",
      "  day['words_text'] = [remove_stopwords(t.split()) for t in day.text]\n",
      "<ipython-input-30-68ca6b75662b>:11: SettingWithCopyWarning: \n",
      "A value is trying to be set on a copy of a slice from a DataFrame.\n",
      "Try using .loc[row_indexer,col_indexer] = value instead\n",
      "\n",
      "See the caveats in the documentation: https://pandas.pydata.org/pandas-docs/stable/user_guide/indexing.html#returning-a-view-versus-a-copy\n",
      "  day['sentences'] = day.text.str.split('.')\n",
      "<ipython-input-30-68ca6b75662b>:12: SettingWithCopyWarning: \n",
      "A value is trying to be set on a copy of a slice from a DataFrame.\n",
      "Try using .loc[row_indexer,col_indexer] = value instead\n",
      "\n",
      "See the caveats in the documentation: https://pandas.pydata.org/pandas-docs/stable/user_guide/indexing.html#returning-a-view-versus-a-copy\n",
      "  day['words_sentences'] =[[list(filter(lambda w: not w.lower() in s,sen.split())) for sen in text] for text in day.sentences]\n",
      "<ipython-input-30-68ca6b75662b>:13: SettingWithCopyWarning: \n",
      "A value is trying to be set on a copy of a slice from a DataFrame.\n",
      "Try using .loc[row_indexer,col_indexer] = value instead\n",
      "\n",
      "See the caveats in the documentation: https://pandas.pydata.org/pandas-docs/stable/user_guide/indexing.html#returning-a-view-versus-a-copy\n",
      "  day['words_text'] = [remove_stopwords(t.split()) for t in day.text]\n"
     ]
    }
   ],
   "source": [
    "sep = data[(data.year==2001) & (data.month==9)]\n",
    "for i in range(30):\n",
    "    day = sep[sep.date==i+1]\n",
    "    day['sentences'] = day.text.str.split('.')\n",
    "    day['words_sentences'] =[[list(filter(lambda w: not w.lower() in s,sen.split())) for sen in text] for text in day.sentences]\n",
    "    day['words_text'] = [remove_stopwords(t.split()) for t in day.text]\n",
    "    day.to_csv(f'data/new/9_11_2001/{i+1}.09.2001.csv')\n",
    "octb = data[(data.year==2001) & (data.month==10)]\n",
    "for i in range(31):\n",
    "    day = octb[octb.date==i+1]\n",
    "    day['sentences'] = day.text.str.split('.')\n",
    "    day['words_sentences'] =[[list(filter(lambda w: not w.lower() in s,sen.split())) for sen in text] for text in day.sentences]\n",
    "    day['words_text'] = [remove_stopwords(t.split()) for t in day.text]\n",
    "    day.to_csv(f'data/new/9_11_2001/{i+1}.10.2001.csv')"
   ]
  },
  {
   "cell_type": "markdown",
   "id": "2e774279",
   "metadata": {},
   "source": [
    "### Invading Iraq - March 20, 2003"
   ]
  },
  {
   "cell_type": "code",
   "execution_count": 33,
   "id": "5464a2e7",
   "metadata": {},
   "outputs": [],
   "source": [
    "data = pd.DataFrame(columns=['url', 'channel.name', 'program.name', 'uid', 'duration', 'year',\n",
    "       'month', 'date', 'time', 'timezone', 'path', 'wordcount', 'subhead',\n",
    "       'text'])\n",
    "chunksize = 10 ** 2\n",
    "for chunk in pd.read_csv('cnn-5/cnn-5.csv', chunksize=chunksize):\n",
    "    if (chunk['year']==2003).any():\n",
    "        data = data.append(chunk,ignore_index=True)"
   ]
  },
  {
   "cell_type": "code",
   "execution_count": 37,
   "id": "b56c5e83",
   "metadata": {},
   "outputs": [
    {
     "name": "stderr",
     "output_type": "stream",
     "text": [
      "<ipython-input-37-9ba51dab04d6>:5: SettingWithCopyWarning: \n",
      "A value is trying to be set on a copy of a slice from a DataFrame.\n",
      "Try using .loc[row_indexer,col_indexer] = value instead\n",
      "\n",
      "See the caveats in the documentation: https://pandas.pydata.org/pandas-docs/stable/user_guide/indexing.html#returning-a-view-versus-a-copy\n",
      "  day['sentences'] = day.text.str.split('.')\n",
      "<ipython-input-37-9ba51dab04d6>:6: SettingWithCopyWarning: \n",
      "A value is trying to be set on a copy of a slice from a DataFrame.\n",
      "Try using .loc[row_indexer,col_indexer] = value instead\n",
      "\n",
      "See the caveats in the documentation: https://pandas.pydata.org/pandas-docs/stable/user_guide/indexing.html#returning-a-view-versus-a-copy\n",
      "  day['words_sentences'] =[[list(filter(lambda w: not w.lower() in s,sen.split())) for sen in text] for text in day.sentences]\n",
      "<ipython-input-37-9ba51dab04d6>:7: SettingWithCopyWarning: \n",
      "A value is trying to be set on a copy of a slice from a DataFrame.\n",
      "Try using .loc[row_indexer,col_indexer] = value instead\n",
      "\n",
      "See the caveats in the documentation: https://pandas.pydata.org/pandas-docs/stable/user_guide/indexing.html#returning-a-view-versus-a-copy\n",
      "  day['words_text'] = [remove_stopwords(t.split()) for t in day.text]\n",
      "<ipython-input-37-9ba51dab04d6>:15: SettingWithCopyWarning: \n",
      "A value is trying to be set on a copy of a slice from a DataFrame.\n",
      "Try using .loc[row_indexer,col_indexer] = value instead\n",
      "\n",
      "See the caveats in the documentation: https://pandas.pydata.org/pandas-docs/stable/user_guide/indexing.html#returning-a-view-versus-a-copy\n",
      "  day['sentences'] = day.text.str.split('.')\n",
      "<ipython-input-37-9ba51dab04d6>:16: SettingWithCopyWarning: \n",
      "A value is trying to be set on a copy of a slice from a DataFrame.\n",
      "Try using .loc[row_indexer,col_indexer] = value instead\n",
      "\n",
      "See the caveats in the documentation: https://pandas.pydata.org/pandas-docs/stable/user_guide/indexing.html#returning-a-view-versus-a-copy\n",
      "  day['words_sentences'] =[[list(filter(lambda w: not w.lower() in s,sen.split())) for sen in text] for text in day.sentences]\n",
      "<ipython-input-37-9ba51dab04d6>:17: SettingWithCopyWarning: \n",
      "A value is trying to be set on a copy of a slice from a DataFrame.\n",
      "Try using .loc[row_indexer,col_indexer] = value instead\n",
      "\n",
      "See the caveats in the documentation: https://pandas.pydata.org/pandas-docs/stable/user_guide/indexing.html#returning-a-view-versus-a-copy\n",
      "  day['words_text'] = [remove_stopwords(t.split()) for t in day.text]\n"
     ]
    }
   ],
   "source": [
    "march = data[(data.year==2003) & (data.month==3)]\n",
    "for i in range(31):\n",
    "    day = march[march.date==i+1]\n",
    "    try:\n",
    "        day['sentences'] = day.text.str.split('.')\n",
    "        day['words_sentences'] =[[list(filter(lambda w: not w.lower() in s,sen.split())) for sen in text] for text in day.sentences]\n",
    "        day['words_text'] = [remove_stopwords(t.split()) for t in day.text]\n",
    "        day.to_csv(f'data/new/iraq_3_20_2003/{i+1}.03.2003.csv')\n",
    "    except:\n",
    "        continue\n",
    "april = data[(data.year==2003) & (data.month==4)]\n",
    "for i in range(30):\n",
    "    day = april[april.date==i+1]\n",
    "    try:\n",
    "        day['sentences'] = day.text.str.split('.')\n",
    "        day['words_sentences'] =[[list(filter(lambda w: not w.lower() in s,sen.split())) for sen in text] for text in day.sentences]\n",
    "        day['words_text'] = [remove_stopwords(t.split()) for t in day.text]\n",
    "        day.to_csv(f'data/new/iraq_3_20_2003/{i+1}.04.2003.csv')\n",
    "    except:\n",
    "        continue"
   ]
  },
  {
   "cell_type": "markdown",
   "id": "72a00ecd",
   "metadata": {},
   "source": [
    "### Hurricane Katrina - August 23-31, 2005"
   ]
  },
  {
   "cell_type": "code",
   "execution_count": 5,
   "id": "c818cb80",
   "metadata": {},
   "outputs": [],
   "source": [
    "data = pd.DataFrame(columns=['url', 'channel.name', 'program.name', 'uid', 'duration', 'year',\n",
    "       'month', 'date', 'time', 'timezone', 'path', 'wordcount', 'subhead',\n",
    "       'text'])\n",
    "chunksize = 10 ** 2\n",
    "for chunk in pd.read_csv('cnn-5/cnn-5.csv', chunksize=chunksize):\n",
    "    if (chunk['year']==2005).any() and (chunk['month']==9).any():\n",
    "        data = data.append(chunk,ignore_index=True)"
   ]
  },
  {
   "cell_type": "code",
   "execution_count": 39,
   "id": "af55c02b",
   "metadata": {},
   "outputs": [
    {
     "name": "stderr",
     "output_type": "stream",
     "text": [
      "<ipython-input-39-60de30a629a1>:5: SettingWithCopyWarning: \n",
      "A value is trying to be set on a copy of a slice from a DataFrame.\n",
      "Try using .loc[row_indexer,col_indexer] = value instead\n",
      "\n",
      "See the caveats in the documentation: https://pandas.pydata.org/pandas-docs/stable/user_guide/indexing.html#returning-a-view-versus-a-copy\n",
      "  day['sentences'] = day.text.str.split('.')\n",
      "<ipython-input-39-60de30a629a1>:6: SettingWithCopyWarning: \n",
      "A value is trying to be set on a copy of a slice from a DataFrame.\n",
      "Try using .loc[row_indexer,col_indexer] = value instead\n",
      "\n",
      "See the caveats in the documentation: https://pandas.pydata.org/pandas-docs/stable/user_guide/indexing.html#returning-a-view-versus-a-copy\n",
      "  day['words_sentences'] =[[list(filter(lambda w: not w.lower() in s,sen.split())) for sen in text] for text in day.sentences]\n",
      "<ipython-input-39-60de30a629a1>:7: SettingWithCopyWarning: \n",
      "A value is trying to be set on a copy of a slice from a DataFrame.\n",
      "Try using .loc[row_indexer,col_indexer] = value instead\n",
      "\n",
      "See the caveats in the documentation: https://pandas.pydata.org/pandas-docs/stable/user_guide/indexing.html#returning-a-view-versus-a-copy\n",
      "  day['words_text'] = [remove_stopwords(t.split()) for t in day.text]\n",
      "<ipython-input-39-60de30a629a1>:15: SettingWithCopyWarning: \n",
      "A value is trying to be set on a copy of a slice from a DataFrame.\n",
      "Try using .loc[row_indexer,col_indexer] = value instead\n",
      "\n",
      "See the caveats in the documentation: https://pandas.pydata.org/pandas-docs/stable/user_guide/indexing.html#returning-a-view-versus-a-copy\n",
      "  day['sentences'] = day.text.str.split('.')\n",
      "<ipython-input-39-60de30a629a1>:16: SettingWithCopyWarning: \n",
      "A value is trying to be set on a copy of a slice from a DataFrame.\n",
      "Try using .loc[row_indexer,col_indexer] = value instead\n",
      "\n",
      "See the caveats in the documentation: https://pandas.pydata.org/pandas-docs/stable/user_guide/indexing.html#returning-a-view-versus-a-copy\n",
      "  day['words_sentences'] =[[list(filter(lambda w: not w.lower() in s,sen.split())) for sen in text] for text in day.sentences]\n",
      "<ipython-input-39-60de30a629a1>:17: SettingWithCopyWarning: \n",
      "A value is trying to be set on a copy of a slice from a DataFrame.\n",
      "Try using .loc[row_indexer,col_indexer] = value instead\n",
      "\n",
      "See the caveats in the documentation: https://pandas.pydata.org/pandas-docs/stable/user_guide/indexing.html#returning-a-view-versus-a-copy\n",
      "  day['words_text'] = [remove_stopwords(t.split()) for t in day.text]\n"
     ]
    }
   ],
   "source": [
    "aug = data[(data.year==2005) & (data.month==8)]\n",
    "for i in range(31):\n",
    "    try:\n",
    "        day = aug[aug.date==i+1]\n",
    "        day['sentences'] = day.text.str.split('.')\n",
    "        day['words_sentences'] =[[list(filter(lambda w: not w.lower() in s,sen.split())) for sen in text] for text in day.sentences]\n",
    "        day['words_text'] = [remove_stopwords(t.split()) for t in day.text]\n",
    "        day.to_csv(f'data/new/katrina_08_2005/{i+1}.08.2005.csv')\n",
    "    except:\n",
    "        continue\n",
    "sep = data[(data.year==2005) & (data.month==9)]\n",
    "for i in range(30):\n",
    "    try:\n",
    "        day = sep[sep.date==i+1]\n",
    "        day['sentences'] = day.text.str.split('.')\n",
    "        day['words_sentences'] =[[list(filter(lambda w: not w.lower() in s,sen.split())) for sen in text] for text in day.sentences]\n",
    "        day['words_text'] = [remove_stopwords(t.split()) for t in day.text]\n",
    "        day.to_csv(f'data/new/katrina_08_2005/{i+1}.09.2005.csv')\n",
    "    except:\n",
    "        continue\n"
   ]
  },
  {
   "cell_type": "markdown",
   "id": "a9b0fc7e",
   "metadata": {},
   "source": [
    "### Bin Ladin Killed by US - May 2, 2011"
   ]
  },
  {
   "cell_type": "code",
   "execution_count": 6,
   "id": "532df765",
   "metadata": {},
   "outputs": [],
   "source": [
    "data = pd.DataFrame(columns=['url', 'channel.name', 'program.name', 'uid', 'duration', 'year',\n",
    "       'month', 'date', 'time', 'timezone', 'path', 'wordcount', 'subhead',\n",
    "       'text'])\n",
    "chunksize = 10 ** 2\n",
    "for chunk in pd.read_csv('cnn-5/cnn-5.csv', chunksize=chunksize):\n",
    "    if (chunk['year']==2011).any() and ((chunk['month']==4).any() or (chunk['month']==5).any()):\n",
    "        data = data.append(chunk,ignore_index=True)"
   ]
  },
  {
   "cell_type": "code",
   "execution_count": 16,
   "id": "a922d277",
   "metadata": {},
   "outputs": [
    {
     "name": "stdout",
     "output_type": "stream",
     "text": [
      "26\n"
     ]
    },
    {
     "name": "stderr",
     "output_type": "stream",
     "text": [
      "c:\\users\\gony\\appdata\\local\\programs\\python\\python37\\lib\\site-packages\\ipykernel_launcher.py:7: SettingWithCopyWarning: \n",
      "A value is trying to be set on a copy of a slice from a DataFrame.\n",
      "Try using .loc[row_indexer,col_indexer] = value instead\n",
      "\n",
      "See the caveats in the documentation: https://pandas.pydata.org/pandas-docs/stable/user_guide/indexing.html#returning-a-view-versus-a-copy\n",
      "  import sys\n",
      "c:\\users\\gony\\appdata\\local\\programs\\python\\python37\\lib\\site-packages\\ipykernel_launcher.py:8: SettingWithCopyWarning: \n",
      "A value is trying to be set on a copy of a slice from a DataFrame.\n",
      "Try using .loc[row_indexer,col_indexer] = value instead\n",
      "\n",
      "See the caveats in the documentation: https://pandas.pydata.org/pandas-docs/stable/user_guide/indexing.html#returning-a-view-versus-a-copy\n",
      "  \n",
      "c:\\users\\gony\\appdata\\local\\programs\\python\\python37\\lib\\site-packages\\ipykernel_launcher.py:9: SettingWithCopyWarning: \n",
      "A value is trying to be set on a copy of a slice from a DataFrame.\n",
      "Try using .loc[row_indexer,col_indexer] = value instead\n",
      "\n",
      "See the caveats in the documentation: https://pandas.pydata.org/pandas-docs/stable/user_guide/indexing.html#returning-a-view-versus-a-copy\n",
      "  if __name__ == \"__main__\":\n"
     ]
    },
    {
     "name": "stdout",
     "output_type": "stream",
     "text": [
      "27\n",
      "28\n",
      "29\n"
     ]
    },
    {
     "name": "stderr",
     "output_type": "stream",
     "text": [
      "c:\\users\\gony\\appdata\\local\\programs\\python\\python37\\lib\\site-packages\\ipykernel_launcher.py:18: SettingWithCopyWarning: \n",
      "A value is trying to be set on a copy of a slice from a DataFrame.\n",
      "Try using .loc[row_indexer,col_indexer] = value instead\n",
      "\n",
      "See the caveats in the documentation: https://pandas.pydata.org/pandas-docs/stable/user_guide/indexing.html#returning-a-view-versus-a-copy\n",
      "c:\\users\\gony\\appdata\\local\\programs\\python\\python37\\lib\\site-packages\\ipykernel_launcher.py:19: SettingWithCopyWarning: \n",
      "A value is trying to be set on a copy of a slice from a DataFrame.\n",
      "Try using .loc[row_indexer,col_indexer] = value instead\n",
      "\n",
      "See the caveats in the documentation: https://pandas.pydata.org/pandas-docs/stable/user_guide/indexing.html#returning-a-view-versus-a-copy\n",
      "c:\\users\\gony\\appdata\\local\\programs\\python\\python37\\lib\\site-packages\\ipykernel_launcher.py:20: SettingWithCopyWarning: \n",
      "A value is trying to be set on a copy of a slice from a DataFrame.\n",
      "Try using .loc[row_indexer,col_indexer] = value instead\n",
      "\n",
      "See the caveats in the documentation: https://pandas.pydata.org/pandas-docs/stable/user_guide/indexing.html#returning-a-view-versus-a-copy\n"
     ]
    }
   ],
   "source": [
    "may = data[(data.year==2011) & (data.month==4)]\n",
    "for i in range(30):\n",
    "    if i >=26:\n",
    "        try:\n",
    "            day = may[may.date==i+1]\n",
    "            day['sentences'] = day.text.str.split('.')\n",
    "            day['words_sentences'] =[[list(filter(lambda w: not w.lower() in s,sen.split())) for sen in text] for text in day.sentences]\n",
    "            day['words_text'] = [remove_stopwords(t.split()) for t in day.text]\n",
    "            day.to_csv(f'C:/Users/gony/Desktop/data/binladin_02_05_2011/{i+1}.04.2011.csv')\n",
    "        except:\n",
    "            continue\n",
    "may = data[(data.year==2011) & (data.month==5)]\n",
    "for i in range(31):\n",
    "    if i <=16:\n",
    "        try:\n",
    "            day = may[may.date==i+1]\n",
    "            day['sentences'] = day.text.str.split('.')\n",
    "            day['words_sentences'] =[[list(filter(lambda w: not w.lower() in s,sen.split())) for sen in text] for text in day.sentences]\n",
    "            day['words_text'] = [remove_stopwords(t.split()) for t in day.text]\n",
    "            day.to_csv(f'C:/Users/gony/Desktop/data/binladin_02_05_2011/{i+1}.05.2011.csv')\n",
    "        except:\n",
    "            continue"
   ]
  },
  {
   "cell_type": "markdown",
   "source": [
    "### BOSTON MARTHON BOMBING - April 15, 2013"
   ],
   "metadata": {
    "collapsed": false
   }
  },
  {
   "cell_type": "code",
   "execution_count": 23,
   "outputs": [],
   "source": [
    "data = pd.DataFrame(columns=['url', 'channel.name', 'program.name', 'uid', 'duration', 'year',\n",
    "       'month', 'date', 'time', 'timezone', 'path', 'wordcount', 'subhead',\n",
    "       'text'])\n",
    "chunksize = 10 ** 2\n",
    "for chunk in pd.read_csv('cnn-6.csv', chunksize=chunksize):\n",
    "    if (chunk['year']==2013).any() and (chunk['month']==4).any():\n",
    "        data = data.append(chunk,ignore_index=True)"
   ],
   "metadata": {
    "collapsed": false,
    "pycharm": {
     "name": "#%%\n"
    }
   }
  },
  {
   "cell_type": "code",
   "execution_count": 24,
   "id": "9d10ea25",
   "metadata": {
    "pycharm": {
     "name": "#%%\n"
    }
   },
   "outputs": [],
   "source": [
    "april = data[(data.year==2013) & (data.month==4)]\n",
    "for i in range(30):\n",
    "    if (i+1)>10:\n",
    "        day = april[april.date==i+1]\n",
    "        day.to_csv(f'C:/Users/gony/Desktop/data/boston_15_04_2013/{i+1}.04.2013.csv')\n",
    "\n"
   ]
  }
 ],
 "metadata": {
  "kernelspec": {
   "display_name": "Python 3",
   "language": "python",
   "name": "python3"
  },
  "language_info": {
   "codemirror_mode": {
    "name": "ipython",
    "version": 3
   },
   "file_extension": ".py",
   "mimetype": "text/x-python",
   "name": "python",
   "nbconvert_exporter": "python",
   "pygments_lexer": "ipython3",
   "version": "3.8.2"
  }
 },
 "nbformat": 4,
 "nbformat_minor": 5
}