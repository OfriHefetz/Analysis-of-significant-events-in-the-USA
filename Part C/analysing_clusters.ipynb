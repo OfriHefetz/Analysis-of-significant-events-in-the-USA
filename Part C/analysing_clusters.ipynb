{
 "cells": [
  {
   "cell_type": "code",
   "execution_count": 3,
   "metadata": {
    "collapsed": true
   },
   "outputs": [],
   "source": [
    "import os\n",
    "\n",
    "import numpy as np\n",
    "import pandas as pd\n",
    "import networkx as nx\n",
    "import community as community_louvain\n",
    "from sklearn.feature_extraction.text import CountVectorizer\n",
    "from itertools import combinations\n",
    "from scipy.spatial import distance\n",
    "\n",
    "import string\n",
    "from zipfile import ZipFile\n",
    "import pandas as pd\n",
    "import itertools\n",
    "# nltk.download('stopwords')\n",
    "from nltk.corpus import stopwords\n",
    "from nltk import tokenize, pos_tag\n",
    "\n",
    "s=set(stopwords.words('english'))\n",
    "start = 'C:/Users/gony/Desktop/data/'"
   ]
  },
  {
   "cell_type": "markdown",
   "source": [
    "Functions:"
   ],
   "metadata": {
    "collapsed": false,
    "pycharm": {
     "name": "#%% md\n"
    }
   }
  },
  {
   "cell_type": "code",
   "execution_count": 5,
   "outputs": [],
   "source": [
    "def remove_stopwords_numbers(text):\n",
    "    return list(filter(lambda w: not w.lower() in s and not w.isdigit(),text))\n",
    "\n",
    "\n",
    "def calc_top_clusters(G):\n",
    "    clustering_coefficients = nx.clustering(G)\n",
    "    partition = community_louvain.best_partition(G)\n",
    "    # Iterate over the partition dictionary\n",
    "    cluster_nodes = {}\n",
    "    for node, community_id in partition.items():\n",
    "        if community_id not in cluster_nodes:\n",
    "            cluster_nodes[community_id] = [node]\n",
    "        else:\n",
    "            cluster_nodes[community_id].append(node)\n",
    "    cluster_dict = {}\n",
    "    for word, cluster in partition.items():\n",
    "      if cluster in cluster_dict.keys():\n",
    "        cluster_dict[cluster].append(word)\n",
    "      else:\n",
    "        cluster_dict[cluster] = [word]\n",
    "\n",
    "    cluster_size = {}\n",
    "    for key in cluster_dict.keys():\n",
    "      cluster_size[key] = len(cluster_dict[key])\n",
    "\n",
    "\n",
    "    # Sort the clusters based on their size in descending order\n",
    "    sorted_clusters = sorted(cluster_size.items(), key=lambda x: x[1], reverse=True)\n",
    "\n",
    "    # Print the top clusters based on their size\n",
    "    top_cluster = sorted_clusters[:20]\n",
    "\n",
    "    return top_cluster, cluster_dict, clustering_coefficients\n",
    "\n",
    "def find_cluster(graph, node):\n",
    "    \"\"\"\n",
    "    Finds the cluster of a given node in a NetworkX graph.\n",
    "    Args:\n",
    "        graph (nx.Graph or nx.DiGraph): The NetworkX graph.\n",
    "        node: The node for which to find the cluster.\n",
    "    Returns:\n",
    "        set: A set containing the nodes in the cluster.\n",
    "    \"\"\"\n",
    "    # Find all connected components\n",
    "    components = list(nx.connected_components(graph))\n",
    "\n",
    "    # Find the component that contains the node\n",
    "    for component in components:\n",
    "        if node in component:\n",
    "            return component\n",
    "\n",
    "    # If the node is not found, return an empty set\n",
    "    return set()\n",
    "\n",
    "def find_communities(graph):\n",
    "    # Apply the Louvain algorithm to detect communities\n",
    "    partition = community_louvain.best_partition(graph)\n",
    "\n",
    "    # Create a dictionary to store communities\n",
    "    communities = {}\n",
    "\n",
    "    # Iterate over nodes and their corresponding communities\n",
    "    for node, community_id in partition.items():\n",
    "        if community_id not in communities:\n",
    "            communities[community_id] = []\n",
    "        communities[community_id].append(node)\n",
    "\n",
    "    # Calculate the community density for each community\n",
    "    community_density = {}\n",
    "    for community_id, community in communities.items():\n",
    "        community_subgraph = graph.subgraph(community)\n",
    "        internal_edges = community_subgraph.number_of_edges()\n",
    "        total_edges = nx.density(community_subgraph) * nx.number_of_edges(community_subgraph)\n",
    "        if total_edges==0:\n",
    "            print(community_id)\n",
    "            community_density[community_id] = 0\n",
    "        else:\n",
    "            community_density[community_id] = internal_edges / total_edges\n",
    "\n",
    "    # Return the communities and their density\n",
    "    return list(communities.values()), community_density"
   ],
   "metadata": {
    "collapsed": false,
    "pycharm": {
     "name": "#%%\n"
    }
   }
  },
  {
   "cell_type": "markdown",
   "source": [
    "# Boston Marathon Bombing:"
   ],
   "metadata": {
    "collapsed": false
   }
  },
  {
   "cell_type": "code",
   "execution_count": 44,
   "outputs": [],
   "source": [
    "path = start + 'nodes - Copy/boston_15_04_2013/'\n",
    "# for f in os.listdir(path):!pip uninstall networkx\n",
    "\n",
    "#     day = pd.read_csv(path+f)\n",
    "#     G = nx.from_pandas_edgelist(day, 'source', 'target', 'weight')\n",
    "#     top_cluster, cluster_dict = calc_top_clusters(G)\n",
    "\n",
    "day = pd.read_csv(path+'nodes16.04.2013.csv')\n",
    "G = nx.from_pandas_edgelist(day, 'source', 'target', 'weight')\n",
    "# top_cluster, cluster_dict, clustering_coefficients = calc_top_clusters(G)\n",
    "# nodes_in_clustet = find_cluster(G, 'marathon')"
   ],
   "metadata": {
    "collapsed": false,
    "pycharm": {
     "name": "#%%\n"
    }
   }
  },
  {
   "cell_type": "markdown",
   "source": [
    "Community density measures the density of connections within a community compared to the density of connections outside the community."
   ],
   "metadata": {
    "collapsed": false,
    "pycharm": {
     "name": "#%% md\n"
    }
   }
  },
  {
   "cell_type": "code",
   "execution_count": 45,
   "outputs": [
    {
     "name": "stdout",
     "output_type": "stream",
     "text": [
      "121\n",
      "143\n",
      "175\n",
      "187\n",
      "194\n",
      "196\n"
     ]
    }
   ],
   "source": [
    "communities, community_density = find_communities(G)\n",
    "\n",
    "communities_df = pd.DataFrame(columns=['id', 'nodes', 'density'])\n",
    "for i, community in enumerate(communities):\n",
    "    communities_df.loc[len(communities_df)] = [i+1, community, community_density[i]]"
   ],
   "metadata": {
    "collapsed": false,
    "pycharm": {
     "name": "#%%\n"
    }
   }
  },
  {
   "cell_type": "code",
   "execution_count": 71,
   "outputs": [],
   "source": [
    "communities_df.head()\n",
    "from tqdm import tqdm"
   ],
   "metadata": {
    "collapsed": false,
    "pycharm": {
     "name": "#%%\n"
    }
   }
  },
  {
   "cell_type": "code",
   "execution_count": 81,
   "outputs": [
    {
     "name": "stderr",
     "output_type": "stream",
     "text": [
      "100%|██████████| 15/15 [00:00<00:00, 337.59it/s]\n",
      "100%|██████████| 72/72 [00:00<00:00, 387.03it/s]\n",
      "100%|██████████| 3/3 [00:00<00:00, 332.27it/s]\n",
      "100%|██████████| 37/37 [00:00<00:00, 435.32it/s]\n",
      "100%|██████████| 115/115 [00:00<00:00, 395.19it/s]\n",
      "100%|██████████| 6/6 [00:00<00:00, 333.16it/s]\n",
      "100%|██████████| 130/130 [00:00<00:00, 329.95it/s]\n",
      "100%|██████████| 104/104 [00:00<00:00, 346.67it/s]\n",
      "100%|██████████| 54/54 [00:00<00:00, 333.33it/s]\n",
      "100%|██████████| 70/70 [00:00<00:00, 391.05it/s]\n",
      "100%|██████████| 124/124 [00:00<00:00, 412.16it/s]\n",
      "100%|██████████| 89/89 [00:00<00:00, 385.99it/s]\n",
      "100%|██████████| 87/87 [00:00<00:00, 382.84it/s]\n",
      "100%|██████████| 66/66 [00:00<00:00, 397.62it/s]\n",
      "100%|██████████| 100/100 [00:00<00:00, 402.68it/s]\n",
      "100%|██████████| 104/104 [00:00<00:00, 310.44it/s]\n",
      "100%|██████████| 81/81 [00:00<00:00, 246.58it/s]\n",
      "100%|██████████| 65/65 [00:00<00:00, 396.35it/s]\n",
      "100%|██████████| 54/54 [00:00<00:00, 400.00it/s]\n",
      "100%|██████████| 111/111 [00:00<00:00, 328.41it/s]\n",
      "100%|██████████| 3/3 [00:00<00:00, 333.70it/s]\n",
      "100%|██████████| 55/55 [00:00<00:00, 298.93it/s]\n",
      "100%|██████████| 87/87 [00:00<00:00, 262.03it/s]\n",
      "100%|██████████| 93/93 [00:00<00:00, 375.01it/s]\n",
      "100%|██████████| 45/45 [00:00<00:00, 328.46it/s]\n",
      "100%|██████████| 53/53 [00:00<00:00, 319.27it/s]\n",
      "100%|██████████| 45/45 [00:00<00:00, 312.50it/s]\n",
      "100%|██████████| 62/62 [00:00<00:00, 389.94it/s]\n",
      "100%|██████████| 89/89 [00:00<00:00, 339.69it/s]\n",
      "100%|██████████| 2/2 [00:00<00:00, 284.95it/s]\n",
      "100%|██████████| 65/65 [00:00<00:00, 357.15it/s]\n",
      "100%|██████████| 73/73 [00:00<00:00, 365.00it/s]\n",
      "100%|██████████| 78/78 [00:00<00:00, 382.36it/s]\n",
      "100%|██████████| 85/85 [00:00<00:00, 357.63it/s]\n",
      "100%|██████████| 2/2 [00:00<00:00, 331.78it/s]\n",
      "100%|██████████| 89/89 [00:00<00:00, 313.33it/s]\n",
      "100%|██████████| 97/97 [00:00<00:00, 318.00it/s]\n",
      "100%|██████████| 24/24 [00:00<00:00, 387.11it/s]\n",
      "100%|██████████| 167/167 [00:00<00:00, 345.90it/s]\n",
      "100%|██████████| 42/42 [00:00<00:00, 268.25it/s]\n",
      "100%|██████████| 114/114 [00:00<00:00, 275.55it/s]\n",
      "100%|██████████| 4/4 [00:00<00:00, 400.11it/s]\n",
      "100%|██████████| 3/3 [00:00<00:00, 374.87it/s]\n",
      "100%|██████████| 77/77 [00:00<00:00, 375.56it/s]\n",
      "100%|██████████| 59/59 [00:00<00:00, 380.65it/s]\n",
      "100%|██████████| 3/3 [00:00<00:00, 375.13it/s]\n",
      "100%|██████████| 31/31 [00:00<00:00, 382.73it/s]\n",
      "100%|██████████| 3/3 [00:00<00:00, 428.82it/s]\n",
      "100%|██████████| 57/57 [00:00<00:00, 377.48it/s]\n",
      "100%|██████████| 48/48 [00:00<00:00, 285.55it/s]\n",
      "100%|██████████| 2/2 [00:00<00:00, 142.84it/s]\n",
      "100%|██████████| 2/2 [00:00<00:00, 133.37it/s]\n",
      "100%|██████████| 9/9 [00:00<00:00, 160.72it/s]\n",
      "100%|██████████| 6/6 [00:00<00:00, 153.82it/s]\n",
      "100%|██████████| 2/2 [00:00<00:00, 181.88it/s]\n",
      "100%|██████████| 2/2 [00:00<00:00, 157.81it/s]\n",
      "100%|██████████| 28/28 [00:00<00:00, 314.62it/s]\n",
      "100%|██████████| 2/2 [00:00<00:00, 222.24it/s]\n",
      "100%|██████████| 2/2 [00:00<00:00, 222.26it/s]\n",
      "100%|██████████| 48/48 [00:00<00:00, 244.91it/s]\n",
      "100%|██████████| 2/2 [00:00<00:00, 333.37it/s]\n",
      "100%|██████████| 2/2 [00:00<00:00, 250.34it/s]\n",
      "100%|██████████| 2/2 [00:00<00:00, 222.27it/s]\n",
      "100%|██████████| 3/3 [00:00<00:00, 250.05it/s]\n",
      "100%|██████████| 3/3 [00:00<00:00, 375.13it/s]\n",
      "100%|██████████| 2/2 [00:00<00:00, 285.82it/s]\n",
      "100%|██████████| 3/3 [00:00<00:00, 299.93it/s]\n",
      "100%|██████████| 4/4 [00:00<00:00, 190.50it/s]\n",
      "100%|██████████| 3/3 [00:00<00:00, 333.45it/s]\n",
      "100%|██████████| 3/3 [00:00<00:00, 333.30it/s]\n",
      "100%|██████████| 2/2 [00:00<00:00, 222.24it/s]\n",
      "100%|██████████| 6/6 [00:00<00:00, 250.03it/s]\n",
      "100%|██████████| 2/2 [00:00<00:00, 285.66it/s]\n",
      "100%|██████████| 5/5 [00:00<00:00, 227.29it/s]\n",
      "100%|██████████| 2/2 [00:00<00:00, 333.57it/s]\n",
      "100%|██████████| 4/4 [00:00<00:00, 148.15it/s]\n",
      "100%|██████████| 2/2 [00:00<00:00, 166.68it/s]\n",
      "100%|██████████| 2/2 [00:00<00:00, 222.16it/s]\n",
      "100%|██████████| 2/2 [00:00<00:00, 333.50it/s]\n",
      "100%|██████████| 2/2 [00:00<00:00, 285.42it/s]\n",
      "100%|██████████| 3/3 [00:00<00:00, 333.22it/s]\n",
      "100%|██████████| 7/7 [00:00<00:00, 304.31it/s]\n",
      "100%|██████████| 4/4 [00:00<00:00, 363.57it/s]\n",
      "100%|██████████| 3/3 [00:00<00:00, 249.99it/s]\n",
      "100%|██████████| 2/2 [00:00<00:00, 285.78it/s]\n",
      "100%|██████████| 3/3 [00:00<00:00, 299.91it/s]\n",
      "100%|██████████| 2/2 [00:00<00:00, 285.73it/s]\n",
      "100%|██████████| 2/2 [00:00<00:00, 133.34it/s]\n",
      "100%|██████████| 3/3 [00:00<00:00, 249.93it/s]\n",
      "100%|██████████| 2/2 [00:00<00:00, 286.04it/s]\n",
      "100%|██████████| 2/2 [00:00<00:00, 285.74it/s]\n",
      "100%|██████████| 2/2 [00:00<00:00, 250.05it/s]\n",
      "100%|██████████| 2/2 [00:00<00:00, 285.83it/s]\n",
      "100%|██████████| 3/3 [00:00<00:00, 272.60it/s]\n",
      "100%|██████████| 2/2 [00:00<00:00, 333.40it/s]\n",
      "100%|██████████| 2/2 [00:00<00:00, 200.16it/s]\n",
      "100%|██████████| 3/3 [00:00<00:00, 272.61it/s]\n",
      "100%|██████████| 3/3 [00:00<00:00, 230.68it/s]\n",
      "100%|██████████| 5/5 [00:00<00:00, 312.54it/s]\n",
      "100%|██████████| 2/2 [00:00<00:00, 199.99it/s]\n",
      "100%|██████████| 3/3 [00:00<00:00, 214.28it/s]\n",
      "100%|██████████| 2/2 [00:00<00:00, 200.04it/s]\n",
      "100%|██████████| 2/2 [00:00<00:00, 200.03it/s]\n",
      "100%|██████████| 2/2 [00:00<00:00, 199.90it/s]\n",
      "100%|██████████| 3/3 [00:00<00:00, 214.28it/s]\n",
      "100%|██████████| 3/3 [00:00<00:00, 272.77it/s]\n",
      "100%|██████████| 2/2 [00:00<00:00, 222.29it/s]\n",
      "100%|██████████| 4/4 [00:00<00:00, 250.03it/s]\n",
      "100%|██████████| 2/2 [00:00<00:00, 333.54it/s]\n",
      "100%|██████████| 3/3 [00:00<00:00, 142.84it/s]\n",
      "100%|██████████| 4/4 [00:00<00:00, 181.82it/s]\n",
      "100%|██████████| 1/1 [00:00<00:00, 200.02it/s]\n",
      "100%|██████████| 2/2 [00:00<00:00, 285.68it/s]\n",
      "100%|██████████| 2/2 [00:00<00:00, 250.00it/s]\n",
      "100%|██████████| 7/7 [00:00<00:00, 233.36it/s]\n",
      "100%|██████████| 3/3 [00:00<00:00, 299.96it/s]\n",
      "100%|██████████| 2/2 [00:00<00:00, 250.05it/s]\n",
      "100%|██████████| 3/3 [00:00<00:00, 333.30it/s]\n",
      "100%|██████████| 2/2 [00:00<00:00, 153.84it/s]\n",
      "100%|██████████| 2/2 [00:00<00:00, 166.75it/s]\n",
      "100%|██████████| 3/3 [00:00<00:00, 299.95it/s]\n",
      "100%|██████████| 3/3 [00:00<00:00, 300.09it/s]\n",
      "100%|██████████| 2/2 [00:00<00:00, 333.38it/s]\n",
      "100%|██████████| 5/5 [00:00<00:00, 294.13it/s]\n",
      "100%|██████████| 3/3 [00:00<00:00, 333.33it/s]\n",
      "100%|██████████| 2/2 [00:00<00:00, 333.05it/s]\n",
      "100%|██████████| 2/2 [00:00<00:00, 250.01it/s]\n",
      "100%|██████████| 2/2 [00:00<00:00, 222.24it/s]\n",
      "100%|██████████| 2/2 [00:00<00:00, 222.42it/s]\n",
      "100%|██████████| 2/2 [00:00<00:00, 181.72it/s]\n",
      "100%|██████████| 2/2 [00:00<00:00, 249.86it/s]\n",
      "100%|██████████| 2/2 [00:00<00:00, 222.34it/s]\n",
      "100%|██████████| 2/2 [00:00<00:00, 250.12it/s]\n",
      "100%|██████████| 1/1 [00:00<00:00, 333.52it/s]\n",
      "100%|██████████| 2/2 [00:00<00:00, 285.78it/s]\n",
      "100%|██████████| 2/2 [00:00<00:00, 181.84it/s]\n",
      "100%|██████████| 4/4 [00:00<00:00, 307.76it/s]\n",
      "100%|██████████| 2/2 [00:00<00:00, 400.35it/s]\n",
      "100%|██████████| 2/2 [00:00<00:00, 250.12it/s]\n",
      "100%|██████████| 2/2 [00:00<00:00, 285.71it/s]\n",
      "100%|██████████| 2/2 [00:00<00:00, 222.17it/s]\n",
      "100%|██████████| 2/2 [00:00<00:00, 166.65it/s]\n",
      "100%|██████████| 2/2 [00:00<00:00, 249.91it/s]\n",
      "100%|██████████| 2/2 [00:00<00:00, 181.74it/s]\n",
      "100%|██████████| 2/2 [00:00<00:00, 166.76it/s]\n",
      "100%|██████████| 2/2 [00:00<00:00, 199.97it/s]\n",
      "100%|██████████| 4/4 [00:00<00:00, 173.93it/s]\n",
      "100%|██████████| 2/2 [00:00<00:00, 181.88it/s]\n",
      "100%|██████████| 3/3 [00:00<00:00, 200.00it/s]\n",
      "100%|██████████| 2/2 [00:00<00:00, 222.11it/s]\n",
      "100%|██████████| 2/2 [00:00<00:00, 193.80it/s]\n",
      "100%|██████████| 2/2 [00:00<00:00, 117.57it/s]\n",
      "100%|██████████| 2/2 [00:00<00:00, 181.83it/s]\n",
      "100%|██████████| 2/2 [00:00<00:00, 153.83it/s]\n",
      "100%|██████████| 4/4 [00:00<00:00, 235.27it/s]\n",
      "100%|██████████| 3/3 [00:00<00:00, 230.68it/s]\n",
      "100%|██████████| 2/2 [00:00<00:00, 111.10it/s]\n",
      "100%|██████████| 3/3 [00:00<00:00, 199.89it/s]\n",
      "100%|██████████| 2/2 [00:00<00:00, 154.65it/s]\n",
      "100%|██████████| 2/2 [00:00<00:00, 166.82it/s]\n",
      "100%|██████████| 2/2 [00:00<00:00, 250.12it/s]\n",
      "100%|██████████| 3/3 [00:00<00:00, 249.86it/s]\n",
      "100%|██████████| 2/2 [00:00<00:00, 222.14it/s]\n",
      "100%|██████████| 2/2 [00:00<00:00, 250.04it/s]\n",
      "100%|██████████| 2/2 [00:00<00:00, 285.69it/s]\n",
      "100%|██████████| 1/1 [00:00<00:00, 333.36it/s]\n",
      "100%|██████████| 2/2 [00:00<00:00, 333.29it/s]\n",
      "100%|██████████| 2/2 [00:00<00:00, 285.57it/s]\n",
      "100%|██████████| 2/2 [00:00<00:00, 250.02it/s]\n",
      "100%|██████████| 2/2 [00:00<00:00, 199.97it/s]\n",
      "100%|██████████| 2/2 [00:00<00:00, 200.01it/s]\n",
      "100%|██████████| 2/2 [00:00<00:00, 200.07it/s]\n",
      "100%|██████████| 2/2 [00:00<00:00, 285.43it/s]\n",
      "100%|██████████| 2/2 [00:00<00:00, 285.64it/s]\n",
      "100%|██████████| 2/2 [00:00<00:00, 285.65it/s]\n",
      "100%|██████████| 3/3 [00:00<00:00, 272.67it/s]\n",
      "100%|██████████| 2/2 [00:00<00:00, 333.98it/s]\n",
      "100%|██████████| 1/1 [00:00<00:00, 200.21it/s]\n",
      "100%|██████████| 3/3 [00:00<00:00, 250.05it/s]\n",
      "100%|██████████| 2/2 [00:00<00:00, 285.82it/s]\n",
      "100%|██████████| 2/2 [00:00<00:00, 285.68it/s]\n",
      "100%|██████████| 2/2 [00:00<00:00, 166.60it/s]\n",
      "100%|██████████| 2/2 [00:00<00:00, 124.99it/s]\n",
      "100%|██████████| 2/2 [00:00<00:00, 285.11it/s]\n",
      "100%|██████████| 1/1 [00:00<00:00, 250.11it/s]\n",
      "100%|██████████| 2/2 [00:00<00:00, 249.97it/s]\n",
      "100%|██████████| 1/1 [00:00<00:00, 199.82it/s]\n",
      "100%|██████████| 2/2 [00:00<00:00, 181.73it/s]\n",
      "100%|██████████| 2/2 [00:00<00:00, 250.00it/s]\n",
      "100%|██████████| 2/2 [00:00<00:00, 222.20it/s]\n",
      "100%|██████████| 2/2 [00:00<00:00, 333.25it/s]\n",
      "100%|██████████| 2/2 [00:00<00:00, 249.97it/s]\n",
      "100%|██████████| 2/2 [00:00<00:00, 222.29it/s]\n",
      "100%|██████████| 6/6 [00:00<00:00, 272.69it/s]\n",
      "100%|██████████| 2/2 [00:00<00:00, 166.54it/s]\n",
      "100%|██████████| 2/2 [00:00<00:00, 199.93it/s]\n",
      "100%|██████████| 2/2 [00:00<00:00, 105.27it/s]\n",
      "100%|██████████| 6/6 [00:00<00:00, 230.80it/s]\n",
      "100%|██████████| 2/2 [00:00<00:00, 222.18it/s]\n",
      "100%|██████████| 2/2 [00:00<00:00, 166.70it/s]\n",
      "100%|██████████| 2/2 [00:00<00:00, 249.99it/s]\n",
      "100%|██████████| 2/2 [00:00<00:00, 333.30it/s]\n",
      "100%|██████████| 3/3 [00:00<00:00, 187.47it/s]\n",
      "100%|██████████| 2/2 [00:00<00:00, 181.80it/s]\n",
      "100%|██████████| 2/2 [00:00<00:00, 142.86it/s]\n",
      "100%|██████████| 2/2 [00:00<00:00, 222.27it/s]\n",
      "100%|██████████| 3/3 [00:00<00:00, 272.72it/s]\n",
      "100%|██████████| 2/2 [00:00<00:00, 333.40it/s]\n",
      "100%|██████████| 2/2 [00:00<00:00, 325.85it/s]\n",
      "100%|██████████| 2/2 [00:00<00:00, 250.01it/s]\n",
      "100%|██████████| 2/2 [00:00<00:00, 222.34it/s]\n",
      "100%|██████████| 2/2 [00:00<00:00, 157.88it/s]\n",
      "100%|██████████| 2/2 [00:00<00:00, 178.29it/s]\n",
      "100%|██████████| 2/2 [00:00<00:00, 200.00it/s]\n",
      "100%|██████████| 2/2 [00:00<00:00, 166.63it/s]\n",
      "100%|██████████| 2/2 [00:00<00:00, 142.89it/s]\n",
      "100%|██████████| 2/2 [00:00<00:00, 100.01it/s]\n",
      "100%|██████████| 2/2 [00:00<00:00, 199.96it/s]\n",
      "100%|██████████| 2/2 [00:00<00:00, 142.85it/s]\n",
      "100%|██████████| 2/2 [00:00<00:00, 124.99it/s]\n",
      "100%|██████████| 2/2 [00:00<00:00, 153.83it/s]\n",
      "100%|██████████| 2/2 [00:00<00:00, 181.79it/s]\n",
      "100%|██████████| 2/2 [00:00<00:00, 151.64it/s]\n",
      "100%|██████████| 2/2 [00:00<00:00, 130.18it/s]\n",
      "100%|██████████| 2/2 [00:00<00:00, 153.87it/s]\n",
      "100%|██████████| 2/2 [00:00<00:00, 166.65it/s]\n",
      "100%|██████████| 2/2 [00:00<00:00, 133.23it/s]\n",
      "100%|██████████| 3/3 [00:00<00:00, 176.39it/s]\n",
      "100%|██████████| 2/2 [00:00<00:00, 166.63it/s]\n",
      "100%|██████████| 2/2 [00:00<00:00, 153.82it/s]\n",
      "100%|██████████| 2/2 [00:00<00:00, 111.12it/s]\n",
      "100%|██████████| 2/2 [00:00<00:00, 181.85it/s]\n",
      "100%|██████████| 2/2 [00:00<00:00, 181.87it/s]\n",
      "100%|██████████| 2/2 [00:00<00:00, 142.87it/s]\n",
      "100%|██████████| 2/2 [00:00<00:00, 166.67it/s]\n"
     ]
    }
   ],
   "source": [
    "communities_df.sort_values(['density'], ascending=False)\n",
    "\n",
    "centrality = pd.read_csv(start+'nodes_centrality/boston_15_04_2013/centrality_16.04.2013.csv')\n",
    "top_degree = []\n",
    "for i, row in communities_df.iterrows():\n",
    "    nodes = row['nodes']\n",
    "    temp = pd.DataFrame(columns=['nodes', 'deg_cent'])\n",
    "    for w in nodes:\n",
    "        if w in centrality['nodes']:\n",
    "            temp.loc[len(temp)] = [w, centrality[centrality['nodes']==w]['degree'].values[0]]\n",
    "        else:\n",
    "            temp.loc[len(temp)] = [w, 0]\n",
    "    temp.sort_values(['deg_cent'], ascending=False, inplace=True)\n",
    "    top_degree.append(temp[:10].nodes.values)\n",
    "\n",
    "communities_df['top_degree_cent'] = top_degree"
   ],
   "metadata": {
    "collapsed": false,
    "pycharm": {
     "name": "#%%\n"
    }
   }
  },
  {
   "cell_type": "code",
   "execution_count": 84,
   "outputs": [
    {
     "data": {
      "text/plain": "    id                                              nodes    density  \\\n6    7  [1800call, encourage, cheer, affiliate, crowd,...  39.000000   \n10  11  [26timestwo, perfectly, accurate, conduct, swe...  37.752475   \n38  39  [acquire, ingredient, variety, blur, airborne,...  37.033898   \n43  44  [afar, heartbroken, hometown, native, alongsid...  34.140394   \n61  62                                 [babysat, babysit]  30.781609   \n\n                                      top_degree_cent  \n6   [1800call, invariably, eternity, kingdom, herm...  \n10  [26timestwo, reliably, methodically, math, mar...  \n38  [acquire, hearse, emphasize, broader, screenin...  \n43  [afar, hardly, infrastructure, heartfelt, hear...  \n61                                 [babysat, babysit]  ",
      "text/html": "<div>\n<style scoped>\n    .dataframe tbody tr th:only-of-type {\n        vertical-align: middle;\n    }\n\n    .dataframe tbody tr th {\n        vertical-align: top;\n    }\n\n    .dataframe thead th {\n        text-align: right;\n    }\n</style>\n<table border=\"1\" class=\"dataframe\">\n  <thead>\n    <tr style=\"text-align: right;\">\n      <th></th>\n      <th>id</th>\n      <th>nodes</th>\n      <th>density</th>\n      <th>top_degree_cent</th>\n    </tr>\n  </thead>\n  <tbody>\n    <tr>\n      <th>6</th>\n      <td>7</td>\n      <td>[1800call, encourage, cheer, affiliate, crowd,...</td>\n      <td>39.000000</td>\n      <td>[1800call, invariably, eternity, kingdom, herm...</td>\n    </tr>\n    <tr>\n      <th>10</th>\n      <td>11</td>\n      <td>[26timestwo, perfectly, accurate, conduct, swe...</td>\n      <td>37.752475</td>\n      <td>[26timestwo, reliably, methodically, math, mar...</td>\n    </tr>\n    <tr>\n      <th>38</th>\n      <td>39</td>\n      <td>[acquire, ingredient, variety, blur, airborne,...</td>\n      <td>37.033898</td>\n      <td>[acquire, hearse, emphasize, broader, screenin...</td>\n    </tr>\n    <tr>\n      <th>43</th>\n      <td>44</td>\n      <td>[afar, heartbroken, hometown, native, alongsid...</td>\n      <td>34.140394</td>\n      <td>[afar, hardly, infrastructure, heartfelt, hear...</td>\n    </tr>\n    <tr>\n      <th>61</th>\n      <td>62</td>\n      <td>[babysat, babysit]</td>\n      <td>30.781609</td>\n      <td>[babysat, babysit]</td>\n    </tr>\n  </tbody>\n</table>\n</div>"
     },
     "execution_count": 84,
     "metadata": {},
     "output_type": "execute_result"
    }
   ],
   "source": [
    "communities_df.sort_values(['density'], ascending=False, inplace=True)\n",
    "communities_df.head()"
   ],
   "metadata": {
    "collapsed": false,
    "pycharm": {
     "name": "#%%\n"
    }
   }
  },
  {
   "cell_type": "code",
   "execution_count": 87,
   "outputs": [
    {
     "data": {
      "text/plain": "    id                                    top_degree_cent\n6    7  [1800call, invariably, eternity, kingdom, herm...\n10  11  [26timestwo, reliably, methodically, math, mar...\n38  39  [acquire, hearse, emphasize, broader, screenin...\n43  44  [afar, hardly, infrastructure, heartfelt, hear...\n61  62                                 [babysat, babysit]\n58  59                              [attractive, glowing]\n47  48                                [alto, sax, lovely]\n20  21                       [abandon, sneaker, stroller]\n15  16  [40s, 70, contends, print, finger, tends, hall...\n11  12  [29yearold, babysitting, hardest, pass, invite...",
      "text/html": "<div>\n<style scoped>\n    .dataframe tbody tr th:only-of-type {\n        vertical-align: middle;\n    }\n\n    .dataframe tbody tr th {\n        vertical-align: top;\n    }\n\n    .dataframe thead th {\n        text-align: right;\n    }\n</style>\n<table border=\"1\" class=\"dataframe\">\n  <thead>\n    <tr style=\"text-align: right;\">\n      <th></th>\n      <th>id</th>\n      <th>top_degree_cent</th>\n    </tr>\n  </thead>\n  <tbody>\n    <tr>\n      <th>6</th>\n      <td>7</td>\n      <td>[1800call, invariably, eternity, kingdom, herm...</td>\n    </tr>\n    <tr>\n      <th>10</th>\n      <td>11</td>\n      <td>[26timestwo, reliably, methodically, math, mar...</td>\n    </tr>\n    <tr>\n      <th>38</th>\n      <td>39</td>\n      <td>[acquire, hearse, emphasize, broader, screenin...</td>\n    </tr>\n    <tr>\n      <th>43</th>\n      <td>44</td>\n      <td>[afar, hardly, infrastructure, heartfelt, hear...</td>\n    </tr>\n    <tr>\n      <th>61</th>\n      <td>62</td>\n      <td>[babysat, babysit]</td>\n    </tr>\n    <tr>\n      <th>58</th>\n      <td>59</td>\n      <td>[attractive, glowing]</td>\n    </tr>\n    <tr>\n      <th>47</th>\n      <td>48</td>\n      <td>[alto, sax, lovely]</td>\n    </tr>\n    <tr>\n      <th>20</th>\n      <td>21</td>\n      <td>[abandon, sneaker, stroller]</td>\n    </tr>\n    <tr>\n      <th>15</th>\n      <td>16</td>\n      <td>[40s, 70, contends, print, finger, tends, hall...</td>\n    </tr>\n    <tr>\n      <th>11</th>\n      <td>12</td>\n      <td>[29yearold, babysitting, hardest, pass, invite...</td>\n    </tr>\n  </tbody>\n</table>\n</div>"
     },
     "execution_count": 87,
     "metadata": {},
     "output_type": "execute_result"
    }
   ],
   "source": [
    "communities_df[['id', 'top_degree_cent']][:10]"
   ],
   "metadata": {
    "collapsed": false,
    "pycharm": {
     "name": "#%%\n"
    }
   }
  }
 ],
 "metadata": {
  "kernelspec": {
   "display_name": "Python 3",
   "language": "python",
   "name": "python3"
  },
  "language_info": {
   "codemirror_mode": {
    "name": "ipython",
    "version": 2
   },
   "file_extension": ".py",
   "mimetype": "text/x-python",
   "name": "python",
   "nbconvert_exporter": "python",
   "pygments_lexer": "ipython2",
   "version": "2.7.6"
  }
 },
 "nbformat": 4,
 "nbformat_minor": 0
}